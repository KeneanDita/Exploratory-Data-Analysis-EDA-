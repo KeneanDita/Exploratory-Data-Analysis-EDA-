{
 "cells": [
  {
   "cell_type": "code",
   "execution_count": 1,
   "id": "ac8eb3a0",
   "metadata": {},
   "outputs": [],
   "source": [
    "import pandas as pd\n",
    "import numpy as np\n",
    "import matplotlib.pyplot as plt\n",
    "import seaborn as sns\n",
    "\n",
    "data = pd.read_csv('CSV_files/nba_players.csv')"
   ]
  },
  {
   "cell_type": "code",
   "execution_count": 2,
   "id": "fe943925",
   "metadata": {},
   "outputs": [
    {
     "name": "stdout",
     "output_type": "stream",
     "text": [
      "Data shape: (1000, 11)\n",
      "<class 'pandas.core.frame.DataFrame'>\n",
      "RangeIndex: 1000 entries, 0 to 999\n",
      "Data columns (total 11 columns):\n",
      " #   Column        Non-Null Count  Dtype \n",
      "---  ------        --------------  ----- \n",
      " 0   id            1000 non-null   int64 \n",
      " 1   first_name    1000 non-null   object\n",
      " 2   last_name     1000 non-null   object\n",
      " 3   position      87 non-null     object\n",
      " 4   id_team       1000 non-null   int64 \n",
      " 5   abbreviation  1000 non-null   object\n",
      " 6   city          1000 non-null   object\n",
      " 7   conference    1000 non-null   object\n",
      " 8   division      1000 non-null   object\n",
      " 9   full_name     1000 non-null   object\n",
      " 10  name          1000 non-null   object\n",
      "dtypes: int64(2), object(9)\n",
      "memory usage: 86.1+ KB\n"
     ]
    }
   ],
   "source": [
    "print('Data shape:', data.shape)\n",
    "data.info()"
   ]
  },
  {
   "cell_type": "code",
   "execution_count": 3,
   "id": "42a042c7-0980-4f6d-a137-6f1dbeca95b0",
   "metadata": {},
   "outputs": [
    {
     "name": "stdout",
     "output_type": "stream",
     "text": [
      "position\n",
      "G      40\n",
      "F      28\n",
      "C      13\n",
      "C-F     2\n",
      "F-C     2\n",
      "G-F     2\n",
      "Name: count, dtype: int64\n"
     ]
    }
   ],
   "source": [
    "print(data.value_counts('position'))"
   ]
  },
  {
   "cell_type": "code",
   "execution_count": 4,
   "id": "aaaf7f16-b2be-4677-91e1-3bf2f8f53a35",
   "metadata": {},
   "outputs": [
    {
     "data": {
      "application/vnd.dataresource+json": {
       "data": [
        {
         "index": "id",
         "values": 0
        },
        {
         "index": "first_name",
         "values": 0
        },
        {
         "index": "last_name",
         "values": 0
        },
        {
         "index": "position",
         "values": 913
        },
        {
         "index": "id_team",
         "values": 0
        },
        {
         "index": "abbreviation",
         "values": 0
        },
        {
         "index": "city",
         "values": 0
        },
        {
         "index": "conference",
         "values": 0
        },
        {
         "index": "division",
         "values": 0
        },
        {
         "index": "full_name",
         "values": 0
        },
        {
         "index": "name",
         "values": 0
        }
       ],
       "schema": {
        "fields": [
         {
          "name": "index",
          "type": "string"
         },
         {
          "name": "values",
          "type": "integer"
         }
        ],
        "pandas_version": "1.4.0",
        "primaryKey": [
         "index"
        ]
       }
      },
      "text/plain": [
       "id                0\n",
       "first_name        0\n",
       "last_name         0\n",
       "position        913\n",
       "id_team           0\n",
       "abbreviation      0\n",
       "city              0\n",
       "conference        0\n",
       "division          0\n",
       "full_name         0\n",
       "name              0\n",
       "dtype: int64"
      ]
     },
     "execution_count": 4,
     "metadata": {},
     "output_type": "execute_result"
    }
   ],
   "source": [
    "data.isnull().sum()"
   ]
  },
  {
   "cell_type": "code",
   "execution_count": 5,
   "id": "9986840e-fbce-4bc6-942e-4199f6bc10bc",
   "metadata": {},
   "outputs": [],
   "source": [
    "data['position_filled'] = data['position'].fillna('NaN')"
   ]
  },
  {
   "cell_type": "code",
   "execution_count": 6,
   "id": "b8d8c636-2906-4e54-8702-e2280d6a55b4",
   "metadata": {},
   "outputs": [],
   "source": [
    "from sklearn.preprocessing import LabelEncoder\n",
    "\n",
    "label_encoder = LabelEncoder()\n",
    "data['Position_encoded'] = label_encoder.fit_transform(data['position'])\n"
   ]
  },
  {
   "cell_type": "code",
   "execution_count": 7,
   "id": "4843d8ed-9dc1-479c-b214-9bb556bc2427",
   "metadata": {},
   "outputs": [
    {
     "name": "stdout",
     "output_type": "stream",
     "text": [
      "          Missing Values  Percent\n",
      "position             913     91.3\n"
     ]
    }
   ],
   "source": [
    "# Total and percentage of missing values\n",
    "missing = data.isnull().sum()\n",
    "missing_percent = (missing / len(data)) * 100\n",
    "missing_df = pd.DataFrame({\"Missing Values\": missing, \"Percent\": missing_percent})\n",
    "print(missing_df[missing_df[\"Missing Values\"] > 0].sort_values(\"Percent\", ascending=False))\n"
   ]
  },
  {
   "cell_type": "code",
   "execution_count": 8,
   "id": "d9c03e70-fb10-49c5-bb37-ee5e349bcec5",
   "metadata": {},
   "outputs": [
    {
     "name": "stdout",
     "output_type": "stream",
     "text": [
      "\n",
      "Position Value Counts:\n",
      " position\n",
      "NaN    913\n",
      "G       40\n",
      "F       28\n",
      "C       13\n",
      "C-F      2\n",
      "F-C      2\n",
      "G-F      2\n",
      "Name: count, dtype: int64\n",
      "\n",
      "Conference Value Counts:\n",
      " conference\n",
      "West    504\n",
      "East    496\n",
      "Name: count, dtype: int64\n",
      "\n",
      "Division Value Counts:\n",
      " division\n",
      "Southeast    191\n",
      "Pacific      190\n",
      "Northwest    181\n",
      "Central      166\n",
      "Atlantic     139\n",
      "Southwest    133\n",
      "Name: count, dtype: int64\n"
     ]
    }
   ],
   "source": [
    "print(\"\\nPosition Value Counts:\\n\", data['position'].value_counts(dropna=False))\n",
    "print(\"\\nConference Value Counts:\\n\", data['conference'].value_counts())\n",
    "print(\"\\nDivision Value Counts:\\n\", data['division'].value_counts())\n"
   ]
  },
  {
   "cell_type": "code",
   "execution_count": 10,
   "id": "f45d6864-4235-42ff-bbca-5f870da01847",
   "metadata": {},
   "outputs": [
    {
     "data": {
      "text/plain": [
       "<Axes: xlabel='position', ylabel='count'>"
      ]
     },
     "execution_count": 10,
     "metadata": {},
     "output_type": "execute_result"
    },
    {
     "data": {
      "text/plain": [
       "Text(0.5, 1.0, 'Player Count by Position')"
      ]
     },
     "execution_count": 10,
     "metadata": {},
     "output_type": "execute_result"
    },
    {
     "data": {
      "text/plain": [
       "([0, 1, 2, 3, 4, 5],\n",
       " [Text(0, 0, 'G'),\n",
       "  Text(1, 0, 'F'),\n",
       "  Text(2, 0, 'C'),\n",
       "  Text(3, 0, 'C-F'),\n",
       "  Text(4, 0, 'F-C'),\n",
       "  Text(5, 0, 'G-F')])"
      ]
     },
     "execution_count": 10,
     "metadata": {},
     "output_type": "execute_result"
    },
    {
     "data": {
      "image/png": "[encoded data removed]",
      "text/plain": [
       "<Figure size 640x480 with 1 Axes>"
      ]
     },
     "metadata": {},
     "output_type": "display_data"
    }
   ],
   "source": [
    "sns.countplot(data=data, x='position', order=data['position'].value_counts().index)\n",
    "plt.title(\"Player Count by Position\")\n",
    "plt.xticks(rotation=45)\n",
    "plt.tight_layout()\n",
    "plt.savefig('player count by position', dpi = 300)\n",
    "plt.show()\n"
   ]
  },
  {
   "cell_type": "code",
   "execution_count": 13,
   "id": "189b6d77-660b-4d3d-b3fd-e1cb9c8893f8",
   "metadata": {},
   "outputs": [
    {
     "name": "stderr",
     "output_type": "stream",
     "text": [
      "C:\\Users\\Ken\\AppData\\Local\\Temp\\ipykernel_18192\\746311799.py:1: FutureWarning: \n",
      "\n",
      "Passing `palette` without assigning `hue` is deprecated and will be removed in v0.14.0. Assign the `x` variable to `hue` and set `legend=False` for the same effect.\n",
      "\n",
      "  sns.countplot(data=data, x='conference', palette='Set2')\n"
     ]
    },
    {
     "data": {
      "text/plain": [
       "<Axes: xlabel='conference', ylabel='count'>"
      ]
     },
     "execution_count": 13,
     "metadata": {},
     "output_type": "execute_result"
    },
    {
     "data": {
      "text/plain": [
       "Text(0.5, 1.0, 'Players per Conference')"
      ]
     },
     "execution_count": 13,
     "metadata": {},
     "output_type": "execute_result"
    },
    {
     "data": {
      "image/png": "[encoded data removed]",
      "text/plain": [
       "<Figure size 640x480 with 1 Axes>"
      ]
     },
     "metadata": {},
     "output_type": "display_data"
    }
   ],
   "source": [
    "sns.countplot(data=data, x='conference', palette='Set2')\n",
    "plt.title(\"Players per Conference\")\n",
    "plt.sa\n",
    "plt.show()\n"
   ]
  },
  {
   "cell_type": "code",
   "execution_count": null,
   "id": "4712eafc-2752-46dc-a068-70cd4d56fdcd",
   "metadata": {},
   "outputs": [],
   "source": []
  }
 ],
 "metadata": {
  "kernelspec": {
   "display_name": "Python 3 (ipykernel)",
   "language": "python",
   "name": "python3"
  },
  "language_info": {
   "codemirror_mode": {
    "name": "ipython",
    "version": 3
   },
   "file_extension": ".py",
   "mimetype": "text/x-python",
   "name": "python",
   "nbconvert_exporter": "python",
   "pygments_lexer": "ipython3",
   "version": "3.12.7"
  }
 },
 "nbformat": 4,
 "nbformat_minor": 5
}
