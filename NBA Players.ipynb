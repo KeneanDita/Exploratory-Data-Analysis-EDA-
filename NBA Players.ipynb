{
 "cells": [
  {
   "cell_type": "code",
   "execution_count": null,
   "id": "b0809f09-d350-462f-a403-93b5b1756085",
   "metadata": {},
   "outputs": [],
   "source": []
  },
  {
   "cell_type": "code",
   "execution_count": null,
   "id": "61fe4554-db3e-49fe-926d-5ee5f661de20",
   "metadata": {},
   "outputs": [],
   "source": []
  },
  {
   "cell_type": "code",
   "execution_count": null,
   "id": "81054b3c-d7d6-4b63-b25f-7a038730c215",
   "metadata": {},
   "outputs": [],
   "source": []
  },
  {
   "cell_type": "code",
   "execution_count": null,
   "id": "36021fdc-7b73-4889-b4bb-678843e3d54e",
   "metadata": {},
   "outputs": [],
   "source": []
  },
  {
   "cell_type": "code",
   "execution_count": null,
   "id": "7a37e492-ce3a-4120-8953-f0fb4c14e47a",
   "metadata": {},
   "outputs": [],
   "source": []
  },
  {
   "cell_type": "code",
   "execution_count": null,
   "id": "d9dc13b2-2573-4e74-8dc8-001b542509f0",
   "metadata": {},
   "outputs": [],
   "source": [
    "import pandas as pd\n",
    "from sklearn.model_selection import train_test_split\n",
    "from sklearn.ensemble import RandomForestClassifier\n",
    "from sklearn.metrics import accuracy_score, classification_report\n",
    "\n",
    "# Load the NBA players dataset\n",
    "data = pd.read_csv(\"CSV_files/nba_players.csv\")\n",
    "\n",
    "# Drop irrelevant columns (modify as needed)\n",
    "data = data.drop(columns=[\"Player\", \"Team\"])  # Example columns to drop\n",
    "\n",
    "# Fill missing values (modify as needed)\n",
    "data = data.fillna(data.median())\n",
    "\n",
    "# Encode categorical variables (if any)\n",
    "data = pd.get_dummies(data, drop_first=True)\n",
    "\n",
    "# Define features (X) and target (y)\n",
    "X = data.drop(columns=[\"Playoff\"])  # Features\n",
    "y = data[\"Playoff\"]  # Target variable (e.g., whether the player made the playoffs)\n",
    "\n",
    "# Split data into training and testing sets (80% train, 20% test)\n",
    "X_train, X_test, y_train, y_test = train_test_split(X, y, test_size=0.2, random_state=42)\n",
    "\n",
    "# Initialize and train the Random Forest Classifier\n",
    "model = RandomForestClassifier(random_state=42)\n",
    "model.fit(X_train, y_train)\n",
    "\n",
    "# Make predictions\n",
    "y_pred = model.predict(X_test)\n",
    "\n",
    "# Evaluate the model\n",
    "accuracy = accuracy_score(y_test, y_pred)\n",
    "print(f\"Accuracy: {accuracy:.4f}\")\n",
    "print(classification_report(y_test, y_pred))"
   ]
  }
 ],
 "metadata": {
  "kernelspec": {
   "display_name": "Python 3 (ipykernel)",
   "language": "python",
   "name": "python3"
  },
  "language_info": {
   "codemirror_mode": {
    "name": "ipython",
    "version": 3
   },
   "file_extension": ".py",
   "mimetype": "text/x-python",
   "name": "python",
   "nbconvert_exporter": "python",
   "pygments_lexer": "ipython3",
   "version": "3.12.7"
  }
 },
 "nbformat": 4,
 "nbformat_minor": 5
}
