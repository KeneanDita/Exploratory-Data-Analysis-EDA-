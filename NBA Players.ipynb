{
 "cells": [
  {
   "cell_type": "code",
   "execution_count": 40,
   "id": "ac8eb3a0",
   "metadata": {},
   "outputs": [],
   "source": [
    "import pandas as pd\n",
    "import numpy as np\n",
    "import matplotlib.pyplot as plt\n",
    "import seaborn as sns\n",
    "\n",
    "data = pd.read_csv('CSV_files/nba_players.csv')"
   ]
  },
  {
   "cell_type": "code",
   "execution_count": 41,
   "id": "fe943925",
   "metadata": {},
   "outputs": [
    {
     "name": "stdout",
     "output_type": "stream",
     "text": [
      "Data shape: (1000, 11)\n",
      "<class 'pandas.core.frame.DataFrame'>\n",
      "RangeIndex: 1000 entries, 0 to 999\n",
      "Data columns (total 11 columns):\n",
      " #   Column        Non-Null Count  Dtype \n",
      "---  ------        --------------  ----- \n",
      " 0   id            1000 non-null   int64 \n",
      " 1   first_name    1000 non-null   object\n",
      " 2   last_name     1000 non-null   object\n",
      " 3   position      87 non-null     object\n",
      " 4   id_team       1000 non-null   int64 \n",
      " 5   abbreviation  1000 non-null   object\n",
      " 6   city          1000 non-null   object\n",
      " 7   conference    1000 non-null   object\n",
      " 8   division      1000 non-null   object\n",
      " 9   full_name     1000 non-null   object\n",
      " 10  name          1000 non-null   object\n",
      "dtypes: int64(2), object(9)\n",
      "memory usage: 86.1+ KB\n"
     ]
    }
   ],
   "source": [
    "print('Data shape:', data.shape)\n",
    "data.info()"
   ]
  },
  {
   "cell_type": "code",
   "execution_count": 42,
   "id": "42a042c7-0980-4f6d-a137-6f1dbeca95b0",
   "metadata": {},
   "outputs": [
    {
     "name": "stdout",
     "output_type": "stream",
     "text": [
      "position\n",
      "G      40\n",
      "F      28\n",
      "C      13\n",
      "C-F     2\n",
      "F-C     2\n",
      "G-F     2\n",
      "Name: count, dtype: int64\n"
     ]
    }
   ],
   "source": [
    "print(data.value_counts('position'))"
   ]
  },
  {
   "cell_type": "code",
   "execution_count": 12,
   "id": "aaaf7f16-b2be-4677-91e1-3bf2f8f53a35",
   "metadata": {},
   "outputs": [
    {
     "data": {
      "text/plain": [
       "id                0\n",
       "first_name        0\n",
       "last_name         0\n",
       "position        913\n",
       "id_team           0\n",
       "abbreviation      0\n",
       "city              0\n",
       "conference        0\n",
       "division          0\n",
       "full_name         0\n",
       "name              0\n",
       "dtype: int64"
      ]
     },
     "execution_count": 12,
     "metadata": {},
     "output_type": "execute_result"
    }
   ],
   "source": [
    "data.isnull().sum()"
   ]
  },
  {
   "cell_type": "code",
   "execution_count": null,
   "id": "b354c002-4691-4741-8774-ef6ac623fe74",
   "metadata": {},
   "outputs": [],
   "source": []
  }
 ],
 "metadata": {
  "kernelspec": {
   "display_name": "Python 3",
   "language": "python",
   "name": "python3"
  },
  "language_info": {
   "codemirror_mode": {
    "name": "ipython",
    "version": 3
   },
   "file_extension": ".py",
   "mimetype": "text/x-python",
   "name": "python",
   "nbconvert_exporter": "python",
   "pygments_lexer": "ipython3",
   "version": "3.13.0"
  }
 },
 "nbformat": 4,
 "nbformat_minor": 5
}
