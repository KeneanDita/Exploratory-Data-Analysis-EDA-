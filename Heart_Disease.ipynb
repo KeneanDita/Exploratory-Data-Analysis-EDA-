{
 "cells": [
  {
   "cell_type": "code",
   "execution_count": null,
   "id": "3f1bbcac-d6ee-4500-8afc-61e834abd8ae",
   "metadata": {},
   "outputs": [],
   "source": []
  }
 ],
 "metadata": {
  "kernelspec": {
   "display_name": "",
   "name": ""
  },
  "language_info": {
   "name": ""
  }
 },
 "nbformat": 4,
 "nbformat_minor": 5
}
